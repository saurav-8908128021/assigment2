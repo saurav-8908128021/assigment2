{
 "cells": [
  {
   "cell_type": "markdown",
   "metadata": {},
   "source": [
    "# 1.1  \n",
    " \n",
    "Write a Python Program to implement your own myreduce() function which works exactly like Python's built-in function reduce() "
   ]
  },
  {
   "cell_type": "code",
   "execution_count": 40,
   "metadata": {},
   "outputs": [
    {
     "name": "stdout",
     "output_type": "stream",
     "text": [
      "Sum of given number in list45multiplication of given number362880\n"
     ]
    }
   ],
   "source": [
    "def myreduce(k, z):\n",
    "    result = z[0]   \n",
    "    for item in z[1:]:\n",
    "     result = k(result, item)\n",
    "    return result\n",
    "\n",
    "\n",
    "def sum(x,y):\n",
    "    return x + y\n",
    "\n",
    "def mult(v,u):\n",
    "    return v*u\n",
    "\n",
    "\n",
    "print (\"Sum of given number in list\"+ str(myreduce(sum, [1,2,3,4,5,6,7,8,9])) + \"multiplication of given number\"+str(myreduce(mult,[1,2,3,4,5,6,7,8,9])) )"
   ]
  },
  {
   "cell_type": "markdown",
   "metadata": {},
   "source": [
    "# 1.2  \n",
    " \n",
    "Write a Python program to implement your own myfilter() function which works exactly like Python's built-in function filter() \n",
    " \n",
    " "
   ]
  },
  {
   "cell_type": "code",
   "execution_count": 47,
   "metadata": {},
   "outputs": [
    {
     "name": "stdout",
     "output_type": "stream",
     "text": [
      "even number are[2, 4, 6, 8, 10, 12, 14, 16, 18]odd number are[1, 3, 5, 7, 9, 11, 13, 15, 17, 19]\n"
     ]
    }
   ],
   "source": [
    "\n",
    "def myfilter(v,n):\n",
    " result = []\n",
    " for i in n:\n",
    "  if v(i):\n",
    "   result.append(i)\n",
    "\n",
    " return result\n",
    "\n",
    "\n",
    "def even(x):\n",
    "    if (x%2==0):\n",
    "        return x\n",
    "    \n",
    "def odd(y):\n",
    "    if (y%2!=0):\n",
    "        return y\n",
    "    \n",
    "print('even number are'+str(myfilter(even,range(0,20))) +  'odd number are'+str(myfilter(odd,range(0,20))))    \n",
    "\n"
   ]
  },
  {
   "cell_type": "markdown",
   "metadata": {},
   "source": [
    "# 2.  \n",
    " \n",
    "Implement List comprehensions to produce the following lists. \n",
    " \n",
    "Write List comprehensions to produce the following Lists \n",
    " \n",
    "['A', 'C', 'A', 'D', 'G', 'I', ’L’, ‘ D’] \n",
    " \n",
    "['x', 'xx', 'xxx', 'xxxx', 'y', 'yy', 'yyy', 'yyyy', 'z', 'zz', 'zzz', 'zzzz'] \n",
    " \n",
    "['x', 'y', 'z', 'xx', 'yy', 'zz', 'xx', 'yy', 'zz', 'xxxx', 'yyyy', 'zzzz'] \n",
    " \n",
    "[[2], [3], [4], [3], [4], [5], [4], [5], [6]] \n",
    " \n",
    "[[2, 3, 4, 5], [3, 4, 5, 6], [4, 5, 6, 7], [5, 6, 7, 8]] \n",
    " \n",
    "[(1, 1), (2, 1), (3, 1), (1, 2), (2, 2), (3, 2), (1, 3), (2, 3), (3, 3)] \n",
    " \n",
    " \n"
   ]
  },
  {
   "cell_type": "code",
   "execution_count": 59,
   "metadata": {},
   "outputs": [
    {
     "name": "stdout",
     "output_type": "stream",
     "text": [
      "['A', 'C', 'A', 'D', 'G', 'I', 'L', 'D']\n",
      "['x', 'xx', 'xxx', 'xxxx', 'y', 'yy', 'yyy', 'yyyy', 'z', 'zz', 'zzz', 'zzzz']\n",
      "['x', 'y', 'z', 'xx', 'yy', 'zz', 'xxx', 'yyy', 'zzz', 'xxxx', 'yyyy', 'zzzz']\n",
      "[[2], [3], [4], [3], [4], [5], [4], [5], [6]]\n",
      "[[2, 3, 4, 5], [3, 4, 5, 6], [4, 5, 6, 7], [5, 6, 7, 8], [6, 7, 8, 9]]\n",
      "[(1, 1), (2, 1), (3, 1), (1, 2), (2, 2), (3, 2), (1, 3), (2, 3), (3, 3)]\n"
     ]
    }
   ],
   "source": [
    "first='ACADGILD'\n",
    "first=[letter for letter in first]\n",
    "print(str(first))\n",
    "\n",
    "second=('x','y','z')\n",
    "second=[ second*num for second in second for num in range(1,5)]\n",
    "print(str(second))\n",
    "\n",
    "\n",
    "third_1=('x','y','z')\n",
    "third=[third*num for num in range(1,5) for third in third_1]\n",
    "print(str(third))\n",
    "\n",
    "forth=[2,3,4]\n",
    "forth=[[forth+num] for forth in forth for num in range(0,3)]\n",
    "print(str(forth))\n",
    "\n",
    "fifth=(2,3,4,5)\n",
    "fifth=[[fifth+num for fifth in fifth] for num in range(0,5) ]\n",
    "print(str(fifth))\n",
    "\n",
    "\n",
    "sixth=(1,2,3)\n",
    "sixth=[(num2,num1) for num1 in sixth for num2 in sixth ]\n",
    "print(str(sixth))\n",
    "\n"
   ]
  },
  {
   "cell_type": "markdown",
   "metadata": {},
   "source": [
    "\n",
    "# 3.  \n",
    " \n",
    "Implement a function longestWord() that takes a list of words and returns the longest one. \n",
    " \n",
    " "
   ]
  },
  {
   "cell_type": "code",
   "execution_count": 85,
   "metadata": {},
   "outputs": [
    {
     "name": "stdout",
     "output_type": "stream",
     "text": [
      "saurav\n"
     ]
    }
   ],
   "source": [
    "\n",
    "def longestword(name):\n",
    "    list=[]\n",
    "    for i in name:\n",
    "        list.append(i)\n",
    "    list.sort(reverse =True)\n",
    "    \n",
    "    return list[]\n",
    "    \n",
    "\n",
    "\n",
    "v=longestword(['saurav','ritu'])\n",
    "print(v)\n",
    "\n",
    "    \n",
    "    "
   ]
  },
  {
   "cell_type": "markdown",
   "metadata": {},
   "source": [
    "# 1.1  \n",
    " \n",
    "Write a Python Program(with class concepts) to find the area of the triangle using the below formula. \n",
    " \n",
    "area = (s*(s-a)*(s-b)*(s-c)) ** 0.5 \n",
    " \n",
    "Function to take the length of the sides of triangle from user should be defined in the parent class and function to calculate the area should be defined in subclass. \n",
    " \n",
    " "
   ]
  },
  {
   "cell_type": "code",
   "execution_count": 8,
   "metadata": {},
   "outputs": [
    {
     "name": "stdout",
     "output_type": "stream",
     "text": [
      "1274.5238081338457\n"
     ]
    }
   ],
   "source": [
    "class triangle:\n",
    "    def __init__(self,a,b,c):\n",
    "        self.a=a\n",
    "        self.b=b\n",
    "        self.c=c\n",
    "        \n",
    "    def result(self):\n",
    "        s=((self.a+self.b+self.c)/2)\n",
    "        print((s*(s-self.a)*(s-self.b)*(s-self.c)) ** 0.5)\n",
    "        \n",
    "        \n",
    "        \n",
    "v=triangle(40,88,67)\n",
    "v.result()\n",
    "\n",
    "\n",
    "        "
   ]
  },
  {
   "cell_type": "code",
   "execution_count": 25,
   "metadata": {},
   "outputs": [
    {
     "name": "stdout",
     "output_type": "stream",
     "text": [
      "0.0\n"
     ]
    }
   ],
   "source": [
    "class triangel:\n",
    "    def __init__(self):\n",
    "        self.a=40\n",
    "        self.b=854\n",
    "        self.c=694\n",
    "    def result(self): \n",
    "        s= ((self.a+self.b+self.b)/2)\n",
    "        print((s*(s-self.a)*(s-self.b)*(s-self.c)) ** 0.5)\n",
    "        \n",
    "v=triangel()\n",
    "v.result()"
   ]
  },
  {
   "cell_type": "markdown",
   "metadata": {},
   "source": [
    "# 1.2 \n",
    " \n",
    "Write a function filter_long_words() that takes a list of words and an integer n and returns the list of words that are longer than n. \n",
    "\n",
    "\n",
    "\n",
    "\n",
    " \n",
    " "
   ]
  },
  {
   "cell_type": "code",
   "execution_count": 38,
   "metadata": {},
   "outputs": [
    {
     "name": "stdout",
     "output_type": "stream",
     "text": [
      "saurav\n",
      "shubham\n"
     ]
    }
   ],
   "source": [
    "list=[]\n",
    "def filter_long_words(names,n):\n",
    "    for i in names:\n",
    "        list.append(i)\n",
    "        if len(i)>n:\n",
    "            print(i)\n",
    "        \n",
    "filter_long_words(['ritu','saurav','shubham','srin'],5)\n",
    "\n",
    "        \n",
    "    "
   ]
  },
  {
   "cell_type": "markdown",
   "metadata": {},
   "source": [
    "# 2.1 \n",
    " \n",
    "Write a Python program using function concept that maps  list of words into a list of integers representing the lengths of the corresponding words​. \n",
    " Hint: ​If a list [ ab,cde,erty] is passed on to the python function output should come as [2,3,4] \n",
    " Here 2,3 and 4 are the lengths of the words in the list. "
   ]
  },
  {
   "cell_type": "code",
   "execution_count": 118,
   "metadata": {
    "scrolled": false
   },
   "outputs": [
    {
     "name": "stdout",
     "output_type": "stream",
     "text": [
      "The strings entered are: ['shubham', 'srinu']\n",
      "The corrosponding lengths of the above strings are: [7, 5]\n"
     ]
    }
   ],
   "source": [
    "list=[]\n",
    "len_list=[]\n",
    "def length_string(names):\n",
    "    for i in names:\n",
    "        list.append(i)\n",
    "    print('The strings entered are:',list)\n",
    "    for j in list:\n",
    "        len_list.append(len(j))\n",
    "    print('The corrosponding lengths of the above strings are:',len_list)\n",
    "    \n",
    "        \n",
    "\n",
    "        \n",
    "    \n",
    "    \n",
    "\n",
    "\n",
    "length_string(['shubham','srinu'])"
   ]
  },
  {
   "cell_type": "markdown",
   "metadata": {},
   "source": [
    "2.2 \n",
    " \n",
    "Write a Python function which takes a character (i.e. a string of length 1) and returns True if it is a vowel, False otherwise. "
   ]
  },
  {
   "cell_type": "code",
   "execution_count": 141,
   "metadata": {},
   "outputs": [
    {
     "name": "stdout",
     "output_type": "stream",
     "text": [
      "false\n"
     ]
    }
   ],
   "source": [
    "def identifier(vowel):\n",
    "    if vowel==('a'or 'e' or'i'or'o'or'u'):\n",
    "        print('true')\n",
    "    else:\n",
    "        print('false')  \n",
    "        \n",
    "        \n",
    "identifier('h')       "
   ]
  },
  {
   "cell_type": "code",
   "execution_count": null,
   "metadata": {},
   "outputs": [],
   "source": []
  }
 ],
 "metadata": {
  "kernelspec": {
   "display_name": "Python 3",
   "language": "python",
   "name": "python3"
  },
  "language_info": {
   "codemirror_mode": {
    "name": "ipython",
    "version": 3
   },
   "file_extension": ".py",
   "mimetype": "text/x-python",
   "name": "python",
   "nbconvert_exporter": "python",
   "pygments_lexer": "ipython3",
   "version": "3.7.3"
  }
 },
 "nbformat": 4,
 "nbformat_minor": 2
}
